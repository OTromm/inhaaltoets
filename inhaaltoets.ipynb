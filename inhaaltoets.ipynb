{
 "cells": [
  {
   "cell_type": "markdown",
   "metadata": {},
   "source": [
    "# Toets Programmeren\n",
    "\n",
    "# VERGEET NIET OP TE SLAAN NA HET MAKEN VAN ELKE OPDRACHT!\n",
    "# VERGEET DE CODE NIET UIT TE VOEREN!"
   ]
  },
  {
   "cell_type": "markdown",
   "metadata": {},
   "source": [
    "### Vraag 1:\n",
    "Zorg dat de uitkomst van de uitdrukking `CambreurCambreurCambreur` is."
   ]
  },
  {
   "cell_type": "code",
   "execution_count": null,
   "metadata": {},
   "outputs": [],
   "source": [
    "x = \n",
    "y = \n",
    "z = \n",
    "print(int((x + 3) / y) * z)"
   ]
  },
  {
   "cell_type": "markdown",
   "metadata": {},
   "source": [
    "### Vraag 2:\n",
    "Zorg dat de uitkomst van de uitdrukking `TruePythonPython42` is."
   ]
  },
  {
   "cell_type": "code",
   "execution_count": null,
   "metadata": {},
   "outputs": [],
   "source": [
    "\n",
    "\n",
    "print(str(a) + ((b - 2) * c) + str(d * e))"
   ]
  },
  {
   "cell_type": "markdown",
   "metadata": {},
   "source": [
    "### Vraag 3:\n",
    "Zorg dat de uitkomst van de uitdrukking `True` is."
   ]
  },
  {
   "cell_type": "code",
   "execution_count": null,
   "metadata": {},
   "outputs": [],
   "source": [
    "\n",
    "\n",
    "print(x - (y * z) > 250 and z > 2000)"
   ]
  },
  {
   "cell_type": "markdown",
   "metadata": {},
   "source": [
    "### Vraag 4:\n",
    "Om een auto te mogen kopen moet je tenminste €15000.- hebben en 18 jaar oud zijn. Zorg dat de uitkomst van het algoritme `Ja, ik mag een auto kopen` is. (Je moet hiervoor 2 `variabelen` gebruiken)"
   ]
  },
  {
   "cell_type": "code",
   "execution_count": null,
   "metadata": {},
   "outputs": [],
   "source": [
    "\n",
    "\n",
    "if():\n",
    "    print(\"Ja, ik mag een auto kopen\")\n",
    "else:\n",
    "    print(\"Nee, ik mag geen auto kopen\")"
   ]
  },
  {
   "cell_type": "markdown",
   "metadata": {},
   "source": [
    "### Vraag 5:\n",
    "Eric, Koen & Sam willen samen een appartement huren. De huur van dit appartement is €1551,- hebben. Maak een programma die checkt of ze genoeg geld hebben om het appartement te huren. Maak hiervoor 3 variabelen aan die elk het geld van Eric, Koen & Sam bijhoudt. Schrijf vervolgens zelf een `If statement` die checkt of dit totaalbedrag genoeg is om het appartement te huren. (Kijk goed naar de andere opdrachten en zorg dat de code op de juiste plek staat! Vergeet de **:** niet!)"
   ]
  },
  {
   "cell_type": "code",
   "execution_count": null,
   "metadata": {},
   "outputs": [],
   "source": []
  },
  {
   "cell_type": "markdown",
   "metadata": {},
   "source": [
    "### Vraag 6:\n",
    "Maak een algoritme die verteld wanneer een nummer deelbaar is door 2, 9 of geen van beide. (maak gebruik van `modulo` (%))"
   ]
  },
  {
   "cell_type": "code",
   "execution_count": null,
   "metadata": {},
   "outputs": [],
   "source": [
    "num = \n",
    "\n",
    "if():\n",
    "    print(\"Nummer is deelbaar door 2\")\n",
    "elif():\n",
    "    print(\"Nummer is deelbaar door 9\")\n",
    "else:\n",
    "    print(\"Nummer is niet deelbaar door 2 of 9\")"
   ]
  },
  {
   "cell_type": "markdown",
   "metadata": {},
   "source": [
    "### Vraag 7:\n",
    "Maak een algoritme die kijkt of 2 nummers **niet** gelijk aan elkaar zijn **EN** dat tenminste 1 van de nummers negatief is."
   ]
  },
  {
   "cell_type": "code",
   "execution_count": null,
   "metadata": {},
   "outputs": [],
   "source": [
    "num1 = \n",
    "num2 = \n",
    "\n",
    "if():\n",
    "    print(\"De nummers zijn niet gelijk aan elkaar en een van de twee nummers is negatief\")\n",
    "else:\n",
    "    print(\"De nummers zijn gelijk aan elkaar of beide zijn positief\")"
   ]
  },
  {
   "cell_type": "markdown",
   "metadata": {},
   "source": [
    "### Vraag 8:\n",
    "Maak een lijstje met de waardes `1, 2, 3, 5, 7, 13` en print deze uit."
   ]
  },
  {
   "cell_type": "code",
   "execution_count": null,
   "metadata": {},
   "outputs": [],
   "source": []
  },
  {
   "cell_type": "markdown",
   "metadata": {},
   "source": [
    "### Vraag 9:\n",
    "Maak een lijstje met de waardes `Ijsthee, Cola, Fanta`, voeg vervolgens de waarde `Casis` toe aan het lijstje en print dan het lijstje uit."
   ]
  },
  {
   "cell_type": "code",
   "execution_count": null,
   "metadata": {},
   "outputs": [],
   "source": []
  },
  {
   "cell_type": "markdown",
   "metadata": {},
   "source": [
    "### Vraag 10:\n",
    "Maak een lijstje `tientallen` en de waardes `10, 15, 20`. Haal vervolgens de waarde `15` uit het lijstje en voeg de waarde `30` toe. Print ten slotte het lijstje uit."
   ]
  },
  {
   "cell_type": "code",
   "execution_count": null,
   "metadata": {},
   "outputs": [],
   "source": []
  },
  {
   "cell_type": "markdown",
   "metadata": {},
   "source": [
    "### Vraag 11:\n",
    "Maak de `for-loop` af zodat alleen oneven waardes uit het lijstje worden uitgeprint."
   ]
  },
  {
   "cell_type": "code",
   "execution_count": null,
   "metadata": {},
   "outputs": [],
   "source": [
    "nummers = [-32, 14, -47, 33, -32, -56, 51, 59, -77, 8]\n",
    "\n",
    "for ? in ?:\n",
    "    if(?):\n",
    "        print(?)"
   ]
  },
  {
   "cell_type": "markdown",
   "metadata": {},
   "source": [
    "### Vraag 12:\n",
    "Maak een lijstje en gebruik vervolgens een `for-loop` om alle waardes uit het lijstje onder elkaar uit te printen."
   ]
  },
  {
   "cell_type": "code",
   "execution_count": null,
   "metadata": {},
   "outputs": [],
   "source": []
  },
  {
   "cell_type": "markdown",
   "metadata": {},
   "source": [
    "### Vraag 13:\n",
    "Maak een algoritme die alle even waardes uitprint in het bereik van 1 tot en met 100. (Maak gebruik van een `for-range` loop)"
   ]
  },
  {
   "cell_type": "code",
   "execution_count": null,
   "metadata": {},
   "outputs": [],
   "source": []
  },
  {
   "cell_type": "markdown",
   "metadata": {},
   "source": [
    "### Opdracht 14:\n",
    "Maak een algoritme die alle waardes deelbaar door 3 **en** positief zijn uitprint in het bereik van -100 tot en met 100."
   ]
  },
  {
   "cell_type": "code",
   "execution_count": null,
   "metadata": {},
   "outputs": [],
   "source": []
  },
  {
   "cell_type": "markdown",
   "metadata": {},
   "source": [
    "### Opdracht 15:\n",
    "Maak een algoritme die alle waardes deelbaar door **8** tot en met 100 bij elkaar **optelt**."
   ]
  },
  {
   "cell_type": "code",
   "execution_count": null,
   "metadata": {},
   "outputs": [],
   "source": [
    "totaal = 0\n",
    "\n",
    "\n",
    "\n",
    "print(totaal)"
   ]
  }
 ],
 "metadata": {
  "interpreter": {
   "hash": "d6fc88ca1b8d43d1c2ff556a4cf2c97bc12b18efa130c7f150b410a6ae7c0d14"
  },
  "kernelspec": {
   "display_name": "Python 3.10.4 64-bit",
   "language": "python",
   "name": "python3"
  },
  "language_info": {
   "codemirror_mode": {
    "name": "ipython",
    "version": 3
   },
   "file_extension": ".py",
   "mimetype": "text/x-python",
   "name": "python",
   "nbconvert_exporter": "python",
   "pygments_lexer": "ipython3",
   "version": "3.10.4"
  },
  "orig_nbformat": 4
 },
 "nbformat": 4,
 "nbformat_minor": 2
}
